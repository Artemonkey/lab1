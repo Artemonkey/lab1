{
  "cells": [
    {
      "cell_type": "markdown",
      "metadata": {
        "id": "M-DGa20PaHnu"
      },
      "source": [
        "# Задача 1\n",
        "Написать функцию на вход которой подается строка, состоящая из латинских букв.\n",
        "Функция должна вернуть количество гласных букв (a, e, i, o, u) в этой строке. Написать тесты для кода"
      ]
    },
    {
      "cell_type": "code",
      "execution_count": null,
      "metadata": {
        "id": "XvX8X_JJ6PCb"
      },
      "outputs": [],
      "source": [
        "def FindLetters(text):\n",
        "    count = {'a': 0, 'e': 0, 'i': 0, 'o': 0, 'u': 0}\n",
        "    for letter in text.lower():\n",
        "        if letter in ['a', 'e', 'i', 'o', 'u']:\n",
        "            count[letter] += 1\n",
        "    return count\n",
        "\n",
        "\n",
        "# Тест 1: Строка содержит все гласные\n",
        "test1 = \"aeiou\"\n",
        "print(f\"Test 1: {FindLetters(test1)}\")\n",
        "\n",
        "# Тест 2: Строка содержит только согласные\n",
        "test2 = \"bcdfg\"\n",
        "print(f\"Test 2: {FindLetters(test2)}\")\n",
        "\n",
        "# Тест 3: Смешанная строка с гласными и согласными\n",
        "test3 = \"hello world\"\n",
        "print(f\"Test 3: {FindLetters(test3)}\")\n",
        "\n",
        "# Тест 4: Пустая строка\n",
        "test4 = \"\"\n",
        "print(f\"Test 4: {FindLetters(test4)}\")\n",
        "\n",
        "# Тест 5: Строка с повторяющимися гласными\n",
        "test5 = \"banana\"\n",
        "print(f\"Test 5: {FindLetters(test5)}\")\n",
        "\n",
        "# Тест 6: Строка в верхнем регистре\n",
        "test6 = \"HELLO WORLD\"\n",
        "print(f\"Test 6: {FindLetters(test6)}\")"
      ]
    },
    {
      "cell_type": "markdown",
      "metadata": {
        "id": "t2ClV_Y0bbr6"
      },
      "source": [
        "# Задача 2\n",
        "Написать функцию на вход, которой подается строка. Функция должна вернуть true, если\n",
        "каждый символ в строке встречается только 1 раз, иначе должна вернуть false. Написать тесты для кода"
      ]
    },
    {
      "cell_type": "code",
      "execution_count": null,
      "metadata": {
        "id": "FppbECao6VIz"
      },
      "outputs": [],
      "source": [
        "def CheckLetters(text):\n",
        "    countDict = {}\n",
        "    for letter in text:\n",
        "        if letter in countDict:\n",
        "            countDict[letter] += 1\n",
        "        else:\n",
        "            countDict[letter] = 1\n",
        "        \n",
        "    return all(value == 1 for value in countDict.values())\n",
        "\n",
        "test1 = \"abcdef\"  # Уникальные символы\n",
        "test2 = \"hello\"  # Повторяющиеся символы ('l')\n",
        "test3 = \"\"  # Пустая строка\n",
        "test4 = \"1234567890\"  # Уникальные цифры\n",
        "test5 = \"aA\"  # Разный регистр считается разными символами\n",
        "test6 = \"!@#\"  # Уникальные специальные символы\n",
        "test7 = \"aaBBccDD\"  # Повторяющиеся символы в разном регистре\n",
        "\n",
        "print(CheckLetters(test1))\n",
        "print(CheckLetters(test2))\n",
        "print(CheckLetters(test3))\n",
        "print(CheckLetters(test4))\n",
        "print(CheckLetters(test5))\n",
        "print(CheckLetters(test6))\n",
        "print(CheckLetters(test7))"
      ]
    },
    {
      "cell_type": "markdown",
      "metadata": {
        "id": "udRiIK1cdt6E"
      },
      "source": [
        "# Задача 3\n",
        "Написать функцию, которая принимает положительное число и возвращает количество\n",
        "бит равных 1 в этом числе. Написать тесты для кода"
      ]
    },
    {
      "cell_type": "code",
      "execution_count": null,
      "metadata": {
        "id": "6tkfDJRz6dp_"
      },
      "outputs": [],
      "source": [
        "def CheckNum(positive_number):\n",
        "    if positive_number > 0:\n",
        "        return bin(positive_number).count('1')\n",
        "    else:\n",
        "        return 'Введено не положительное число'\n",
        "\n",
        "test1 = 5  # Двоичное представление: 101, количество '1': 2\n",
        "test2 = 7  # Двоичное представление: 111, количество '1': 3\n",
        "test3 = 0  # Не положительное число\n",
        "test4 = -1 # Не положительное число\n",
        "test5 = 16 # Двоичное представление: 10000, количество '1': 1\n",
        "test6 = 1023 # Двоичное представление: 1111111111, количество '1': 10\n",
        "test7 = 1  # Двоичное представление: 1, количество '1': 1\n",
        "\n",
        "print(CheckNum(test1))\n",
        "print(CheckNum(test2))\n",
        "print(CheckNum(test3))\n",
        "print(CheckNum(test4))\n",
        "print(CheckNum(test5))\n",
        "print(CheckNum(test6))\n",
        "print(CheckNum(test7))"
      ]
    },
    {
      "cell_type": "markdown",
      "metadata": {
        "id": "26dDUz-Ae17N"
      },
      "source": [
        "# Задача 4\n",
        "Написать функцию, которая принимает положительное число. Функция должна вернуть то,\n",
        "сколько раз необходимо перемножать цифры числа или результат перемножения, чтобы\n",
        "получилось число состоящее из одной цифры.\n",
        "Например, для входного числа:\n",
        "· 39 функция должна вернуть 3, так как 3*9=27 => 2*7=14 => 1*4=4\n",
        "· 4 функция должна вернуть 0, так как число уже состоит из одной цифры\n",
        "· 999 функция должна вернуть 4, так как 9*9*9=729 => 7*2*9=126 => 1*2*6=12 =>\n",
        "1*2=2. Написать тесты для кода"
      ]
    },
    {
      "cell_type": "code",
      "execution_count": null,
      "metadata": {
        "id": "BH1A_Mgi6i4G"
      },
      "outputs": [],
      "source": [
        "def magic(n):\n",
        "    if n >= 10:\n",
        "        count = 0\n",
        "        while n >= 10:\n",
        "            mult = 1\n",
        "            res = n\n",
        "            while res > 0:\n",
        "                digit = res % 10\n",
        "                mult *= digit\n",
        "                if res >= 10:\n",
        "                    res = res // 10\n",
        "                else:\n",
        "                    break\n",
        "            count += 1\n",
        "            n = mult\n",
        "        return count\n",
        "    elif n <= 0:\n",
        "        return 'Введено не положительное число'    \n",
        "    else:\n",
        "        return 0 #Введено число уже состоящее только из одной цифры\n",
        "\n",
        "test1 = 39  # Нужно 3 итерации: 3*9=27, 2*7=14, 1*4=4\n",
        "test2 = 999 # Нужно 4 итерации: 9*9*9=729, 7*2*9=126, 1*2*6=12, 1*2=2\n",
        "test3 = 10  # Нужна 1 итерация: 1*0=0\n",
        "test4 = 5   # Введено число уже состоящее только из одной цифры, 0 итераций\n",
        "test5 = -5  # Не положительное число\n",
        "test6 = 111 # Все цифры - единицы, 1 итерация\n",
        "test7 = 0   # Не положительное число\n",
        "\n",
        "print(magic(test1))\n",
        "print(magic(test2))\n",
        "print(magic(test3))\n",
        "print(magic(test4))\n",
        "print(magic(test5))\n",
        "print(magic(test6))\n",
        "print(magic(test7))"
      ]
    },
    {
      "cell_type": "markdown",
      "metadata": {
        "id": "0nS-kIa8g8vd"
      },
      "source": [
        "# Задача 5\n",
        "Написать функцию, которая принимает два целочисленных вектора одинаковой длины и\n",
        "возвращает среднеквадратическое отклонение двух векторов. Написать тесты для кода"
      ]
    },
    {
      "cell_type": "code",
      "execution_count": null,
      "metadata": {
        "id": "8iphx4LM6xbx"
      },
      "outputs": [],
      "source": [
        "import numpy as np\n",
        "\n",
        "\n",
        "def mse(pred, true):\n",
        "    if len(pred) != len(true):\n",
        "        raise ValueError(\"Векторы должны быть одинаковой длины\")\n",
        "    \n",
        "    difference = np.array(pred) - np.array(true)\n",
        "    squared_difference = np.square(difference)\n",
        "    mean_squared_difference = np.mean(squared_difference)\n",
        "    rmsd_value = np.sqrt(mean_squared_difference)\n",
        "    \n",
        "    return rmsd_value\n",
        "\n",
        "\n",
        "test1_pred, test1_true = [1, 2, 3], [1, 2, 3]  # Ожидается 0\n",
        "test2_pred, test2_true = [1, 2, 3], [4, 5, 6]  # Ожидается > 0\n",
        "test3_pred, test3_true = [10, 20, 30], [10, 20, 30]  # Ожидается 0\n",
        "test4_pred, test4_true = [0, 0, 0], [1, 1, 1]  # Ожидается > 0\n",
        "# test5_pred, test5_true = [1, 2], [1, 2, 3]  # Должно вызвать исключение ValueError\n",
        "\n",
        "print(mse(test1_pred, test1_true))\n",
        "print(mse(test2_pred, test2_true))\n",
        "print(mse(test3_pred, test3_true))\n",
        "print(mse(test4_pred, test4_true))\n",
        "# print(mse(test5_pred, test5_true))\n"
      ]
    },
    {
      "cell_type": "markdown",
      "metadata": {
        "id": "vpIPKL439zkw"
      },
      "source": [
        "# Задача 6\n",
        "Написать функцию, принимающая целое положительное число. Функция должна вернуть\n",
        "строку вида “(n1**p1)(n2**p2)…(nk**pk)” представляющая разложение числа на простые\n",
        "множители (если pi == 1, то выводить только ni).\n",
        "Например, для числа 86240 функция должна вернуть “(2**5)(5)(7**2)(11)”. Написать тесты для кода"
      ]
    },
    {
      "cell_type": "code",
      "execution_count": null,
      "metadata": {
        "id": "pFebmcZk94Jw"
      },
      "outputs": [],
      "source": [
        "def prime_factors(n):\n",
        "    i = 2\n",
        "    factors = {}\n",
        "    while i * i <= n:\n",
        "        if n % i:\n",
        "            i += 1\n",
        "        else:\n",
        "            n //= i\n",
        "            if i in factors:\n",
        "                factors[i] += 1\n",
        "            else:\n",
        "                factors[i] = 1\n",
        "    if n > 1:\n",
        "        if n in factors:\n",
        "            factors[n] += 1\n",
        "        else:\n",
        "            factors[n] = 1\n",
        "    \n",
        "    return ''.join(f\"({k}**{v})\" if v > 1 else f\"({k})\" for k, v in factors.items())\n",
        "\n",
        "test1 = 86240  # Ожидаемый результат: \"(2**5)(5)(7**2)(11)\"\n",
        "test2 = 1      # Ожидаемый результат: \"\"\n",
        "test3 = 2      # Ожидаемый результат: \"(2)\"\n",
        "test4 = 28     # Ожидаемый результат: \"(2**2)(7)\"\n",
        "test5 = 999    # Ожидаемый результат: \"(3**3)(37)\"\n",
        "test6 = 49     # Ожидаемый результат: \"(7**2)\"\n",
        "test7 = 360    # Ожидаемый результат: \"(2**3)(3**2)(5)\"\n",
        "\n",
        "print(prime_factors(test1))\n",
        "print(prime_factors(test2))\n",
        "print(prime_factors(test3))\n",
        "print(prime_factors(test4))\n",
        "print(prime_factors(test5))\n",
        "print(prime_factors(test6))\n",
        "print(prime_factors(test7))"
      ]
    },
    {
      "cell_type": "markdown",
      "metadata": {
        "id": "ps2s0BudX7A2"
      },
      "source": [
        "# Задача 7\n",
        "Написать функцию, принимающая целое число n, задающее количество кубиков. Функция\n",
        "должна определить, можно ли из данного кол-ва кубиков построить пирамиду, то есть\n",
        "можно ли представить число n как 1^2+2^2+3^2+…+k^2. Если можно, то функция должна\n",
        "вернуть k, иначе строку “It is impossible”. Написать тесты для кода"
      ]
    },
    {
      "cell_type": "code",
      "execution_count": null,
      "metadata": {
        "id": "3YPjEXxhX_YT"
      },
      "outputs": [],
      "source": [
        "def pyramid(number):\n",
        "    total = 0\n",
        "    k = 0\n",
        "    while total < number:\n",
        "        k += 1\n",
        "        total += k**2\n",
        "        if total == number:\n",
        "            return k\n",
        "    return \"It is impossible\"\n",
        "\n",
        "test1 = 1 # Ожидаемый результат 1, так как пирамида высотой в 1 уровень требует 1 кубик.\n",
        "test2 = 14 # Ожидаемый результат 3, так как 1^2 + 2^2 + 3^2 = 14.\n",
        "test3 = 30 # Ожидаемый результат \"It is impossible\", так как невозможно точно соответствовать этому числу, используя сумму квадратов.\n",
        "test4 = 5 # Ожидаемый результат \"It is impossible\", так как невозможно построить пирамиду, которая точно соответствовала бы количеству кубиков равному 5.\n",
        "test5 = 55 # Ожидаемый результат 5, поскольку 1^2 + 2^2 + 3^2 + 4^2 + 5^2 = 55.\n",
        "test6 = 0 # Ожидаемый результат \"It is impossible\", так как нельзя построить пирамиду без кубиков.\n",
        "test7 = 140 # Ожидаемый результат 7, так как 1^2 + 2^2 + 3^2 + 4^2 + 5^2 + 6^2 + 7^2 = 140.\n",
        "\n",
        "print(pyramid(test1))\n",
        "print(pyramid(test2))\n",
        "print(pyramid(test3))\n",
        "print(pyramid(test4))\n",
        "print(pyramid(test5))\n",
        "print(pyramid(test6))\n",
        "print(pyramid(test7))"
      ]
    },
    {
      "cell_type": "code",
      "execution_count": null,
      "metadata": {},
      "outputs": [],
      "source": [
        "import numpy as np\n",
        "\n",
        "\n",
        "def mse(pred, true):\n",
        "    if len(pred) != len(true):\n",
        "        raise ValueError(\"Векторы должны быть одинаковой длины\")\n",
        "    \n",
        "    difference = np.array(pred) - np.array(true)\n",
        "    squared_difference = np.square(difference)\n",
        "    mean_squared_difference = np.mean(squared_difference)\n",
        "    rmsd_value = np.sqrt(mean_squared_difference)\n",
        "    \n",
        "    return rmsd_value\n",
        "\n",
        "\n",
        "test1_pred, test1_true = [1, 2, 3], [1, 2, 3]  # Ожидается 0\n",
        "test2_pred, test2_true = [1, 2, 3], [4, 5, 6]  # Ожидается > 0\n",
        "test3_pred, test3_true = [10, 20, 30], [10, 20, 30]  # Ожидается 0\n",
        "test4_pred, test4_true = [0, 0, 0], [1, 1, 1]  # Ожидается > 0\n",
        "# test5_pred, test5_true = [1, 2], [1, 2, 3]  # Должно вызвать исключение ValueError\n",
        "\n",
        "print(mse(test1_pred, test1_true))\n",
        "print(mse(test2_pred, test2_true))\n",
        "print(mse(test3_pred, test3_true))\n",
        "print(mse(test4_pred, test4_true))\n",
        "# print(mse(test5_pred, test5_true))\n"
      ]
    },
    {
      "cell_type": "markdown",
      "metadata": {
        "id": "KeKgmIdAQMEJ"
      },
      "source": [
        "# Задача 8\n",
        "Функция принимает на вход положительное число и определяет является ли оно сбалансированным, т.е. сумма цифр до средних равна сумме цифр после. Средними в случае нечетного числа цифр считать одну цифру, в случае четного - две средних. Написать тесты для кода"
      ]
    },
    {
      "cell_type": "code",
      "execution_count": null,
      "metadata": {
        "id": "gMAAqtqlQrZt"
      },
      "outputs": [],
      "source": [
        "import unittest\n",
        "\n",
        "\n",
        "def is_balanced(number):\n",
        "    digits = [int(d) for d in str(number)]\n",
        "    length = len(digits)\n",
        "    \n",
        "    if length % 2 == 0:\n",
        "        half = length // 2\n",
        "        return sum(digits[:half-1]) == sum(digits[half+1:])\n",
        "    else:\n",
        "        half = length // 2\n",
        "        return sum(digits[:half]) == sum(digits[half+1:])\n",
        "\n",
        "print(is_balanced(123321))  # Должно вернуть True\n",
        "print(is_balanced(12321))   # Должно вернуть True\n",
        "print(is_balanced(1232))    # Должно вернуть False\n",
        "\n",
        "\n",
        "class TestIsBalancedFunction(unittest.TestCase):\n",
        "    \n",
        "    def test_even_balanced(self):\n",
        "        self.assertTrue(is_balanced(4321234))  # Сбалансировано: 4+3 = 3+4\n",
        "    \n",
        "    def test_even_unbalanced(self):\n",
        "        self.assertFalse(is_balanced(4321431))  # Не сбалансировано: 4+3+2 != 4+3+1 (с учетом средних цифр)\n",
        "    \n",
        "    def test_odd_balanced(self):\n",
        "        self.assertTrue(is_balanced(15442))  # Сбалансировано: 1+5 = 1+2\n",
        "    \n",
        "    def test_odd_unbalanced(self):\n",
        "        self.assertFalse(is_balanced(12345))  # Не сбалансировано: 1+2 != 4+5\n",
        "    \n",
        "    def test_single_digit(self):\n",
        "        self.assertTrue(is_balanced(5))  # Однозначное число считается сбалансированным\n",
        "\n",
        "if __name__ == \"__main__\":\n",
        "    unittest.main(argv=[''], exit=False)"
      ]
    }
  ],
  "metadata": {
    "colab": {
      "provenance": []
    },
    "kernelspec": {
      "display_name": "Python 3",
      "name": "python3"
    },
    "language_info": {
      "codemirror_mode": {
        "name": "ipython",
        "version": 3
      },
      "file_extension": ".py",
      "mimetype": "text/x-python",
      "name": "python",
      "nbconvert_exporter": "python",
      "pygments_lexer": "ipython3",
      "version": "3.10.7"
    }
  },
  "nbformat": 4,
  "nbformat_minor": 0
}
