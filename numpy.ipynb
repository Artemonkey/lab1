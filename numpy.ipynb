{
  "cells": [
    {
      "cell_type": "markdown",
      "metadata": {
        "id": "vC84e9kzyxPy"
      },
      "source": [
        "<h1>Импорт библиотек"
      ]
    },
    {
      "cell_type": "code",
      "execution_count": 3,
      "metadata": {
        "id": "cgKeNegmQG5S"
      },
      "outputs": [],
      "source": [
        "import numpy as np\n",
        "import matplotlib.pyplot as plt"
      ]
    },
    {
      "cell_type": "markdown",
      "metadata": {
        "id": "qFM9uVU2x4Ls"
      },
      "source": [
        "<h1>Задача 1. Дан набор из $p$ матриц размерностью $(n, n)$ и $p$ векторов размерностью $(n, 1)$, найти сумму произведений матриц на векторы. Написать тесты для кода"
      ]
    },
    {
      "cell_type": "code",
      "execution_count": null,
      "metadata": {
        "id": "IAbUvEiYyWFF"
      },
      "outputs": [],
      "source": [
        "import numpy as np\n",
        "\n",
        "def sum_matrix_vector_products(matrices, vectors):\n",
        "    result = np.zeros_like(vectors[0])\n",
        "    for matrix, vector in zip(matrices, vectors):\n",
        "        result += np.dot(matrix, vector)\n",
        "    return result\n",
        "\n",
        "# Тесты\n",
        "matrix1 = np.array([[1, 2], [3, 4]])\n",
        "matrix2 = np.array([[2, 0], [1, 2]])\n",
        "vector1 = np.array([[1], [2]])\n",
        "vector2 = np.array([[2], [1]])\n",
        "\n",
        "print(sum_matrix_vector_products([matrix1, matrix2], [vector1, vector2]))\n",
        "# Ожидаемый результат: [[9], [15]], так как (matrix1 * vector1) + (matrix2 * vector2) = ([[5], [11]]) + ([[4], [4]]) = [[9], [15]]"
      ]
    },
    {
      "cell_type": "markdown",
      "metadata": {
        "id": "TKwPG4fIy2w4"
      },
      "source": [
        "<h1>Задача 2. Дана матрица M, напишите функцию, которая бинаризует матрицу по некоторому threshold (то есть, все значения большие threshold становятся равными 1, иначе 0). Напишите тесты для кода"
      ]
    },
    {
      "cell_type": "code",
      "execution_count": null,
      "metadata": {
        "id": "KQDNMgsjRNH7"
      },
      "outputs": [],
      "source": [
        "def binarize_matrix(matrix, threshold):\n",
        "    binarized_matrix = [[1 if element > threshold else 0 for element in row] for row in matrix]\n",
        "    return binarized_matrix\n",
        "\n",
        "# Тесты\n",
        "test1 = [[0.1, 0.5, 0.8], [0.3, 0.9, 0.2], [0.6, 0.4, 0.7]]\n",
        "print(binarize_matrix(test1, 0.5))  # Порог 0.5, ожидаемый результат: [[0, 0, 1], [0, 1, 0], [1, 0, 1]]\n",
        "\n",
        "test2 = [[1, 2, 3], [4, 5, 6], [7, 8, 9]]\n",
        "print(binarize_matrix(test2, 5))  # Порог 5, ожидаемый результат: [[0, 0, 0], [0, 0, 1], [1, 1, 1]]\n"
      ]
    },
    {
      "cell_type": "markdown",
      "metadata": {
        "id": "IY5L-h-7zWhN"
      },
      "source": [
        "<h1>Задача 3. Напишите функцию, которая возвращает уникальные элементы из каждой строки матрицы. Напишите такую же функцию, но для столбцов. Напишите тесты для кода"
      ]
    },
    {
      "cell_type": "code",
      "execution_count": null,
      "metadata": {
        "id": "-8dEZhR0SBC-"
      },
      "outputs": [],
      "source": [
        "def unique_elements_rows(matrix):\n",
        "    unique_rows = []\n",
        "    for row in matrix:\n",
        "        unique_rows.append(list(set(row)))\n",
        "    return unique_rows\n",
        "\n",
        "def unique_elements_columns(matrix):\n",
        "    num_rows = len(matrix)\n",
        "    num_columns = len(matrix[0])\n",
        "    transposed_matrix = [[matrix[j][i] for j in range(num_rows)] for i in range(num_columns)]\n",
        "    unique_columns = []\n",
        "    for column in transposed_matrix:\n",
        "        unique_columns.append(list(set(column)))\n",
        "    return unique_columns\n",
        "\n",
        "# Тесты\n",
        "test_matrix = [[1, 2, 3], [2, 3, 4], [3, 4, 5]]\n",
        "print(unique_elements_rows(test_matrix))  # Ожидаемый результат: [[1, 2, 3], [2, 3, 4], [3, 4, 5]]\n",
        "print(unique_elements_columns(test_matrix))  # Ожидаемый результат: [[1, 2, 3], [2, 3, 4], [3, 4, 5]]\n"
      ]
    },
    {
      "cell_type": "markdown",
      "metadata": {
        "id": "roYAlo4Jz-lH"
      },
      "source": [
        "<h1>Задача 4. Напишите функцию, которая заполняет матрицу с размерами $(m, n)$ случайными числами, распределенными по нормальному закону. Затем считает мат. ожидание и дисперсию для каждого из столбцов и строк, а также строит для каждой строки и столбца гистограмму значений (использовать функцию hist из модуля matplotlib.plot)"
      ]
    },
    {
      "cell_type": "code",
      "execution_count": null,
      "metadata": {
        "id": "nZK_71hMSQzv"
      },
      "outputs": [],
      "source": [
        "import numpy as np\n",
        "import matplotlib.pyplot as plt\n",
        "\n",
        "def generate_normal_matrix(m, n):\n",
        "    return np.random.randn(m, n)\n",
        "\n",
        "def calculate_mean_and_variance(matrix):\n",
        "    row_means = np.mean(matrix, axis=1)\n",
        "    row_variances = np.var(matrix, axis=1)\n",
        "    column_means = np.mean(matrix, axis=0)\n",
        "    column_variances = np.var(matrix, axis=0)\n",
        "    return row_means, row_variances, column_means, column_variances\n",
        "\n",
        "def plot_histograms(matrix):\n",
        "    num_rows, num_columns = matrix.shape\n",
        "    for i in range(num_rows):\n",
        "        plt.figure()\n",
        "        plt.hist(matrix[i], bins=20, color='blue', alpha=0.7)\n",
        "        plt.title(f'Row {i+1} Histogram')\n",
        "        plt.xlabel('Value')\n",
        "        plt.ylabel('Frequency')\n",
        "        plt.grid(True)\n",
        "        plt.show()\n",
        "\n",
        "    for j in range(num_columns):\n",
        "        plt.figure()\n",
        "        plt.hist(matrix[:,j], bins=20, color='green', alpha=0.7)\n",
        "        plt.title(f'Column {j+1} Histogram')\n",
        "        plt.xlabel('Value')\n",
        "        plt.ylabel('Frequency')\n",
        "        plt.grid(True)\n",
        "        plt.show()\n",
        "\n",
        "matrix = generate_normal_matrix(5, 3)\n",
        "print(\"Сгенерированная матрица:\")\n",
        "print(matrix)\n",
        "\n",
        "row_means, row_variances, column_means, column_variances = calculate_mean_and_variance(matrix)\n",
        "print(\"\\nМат. ожидание для каждой строки:\")\n",
        "print(row_means)\n",
        "print(\"Дисперсия для каждой строки:\")\n",
        "print(row_variances)\n",
        "print(\"\\nМат. ожидание для каждого столбца:\")\n",
        "print(column_means)\n",
        "print(\"Дисперсия для каждого столбца:\")\n",
        "print(column_variances)\n",
        "\n",
        "plot_histograms(matrix)"
      ]
    },
    {
      "cell_type": "markdown",
      "metadata": {
        "id": "BDyATNdM0dJ2"
      },
      "source": [
        "<h1>Задача 5. Напишите функцию, которая заполняет матрицу $(m, n)$ в шахматном порядке заданными числами $a$ и $b$. Напишите тесты для кода"
      ]
    },
    {
      "cell_type": "code",
      "execution_count": null,
      "metadata": {
        "id": "RWNJYWQGecS6"
      },
      "outputs": [],
      "source": [
        "def chess(m, n, a, b):\n",
        "    matrix = np.zeros((m, n))\n",
        "    for i in range(m):\n",
        "        for j in range(n):\n",
        "            if (i + j) % 2 == 0:\n",
        "                matrix[i, j] = a\n",
        "            else:\n",
        "                matrix[i, j] = b\n",
        "    return matrix\n",
        "\n",
        "# Тест\n",
        "m = 4\n",
        "n = 5\n",
        "a = 1\n",
        "b = 0\n",
        "result_matrix = chess(m, n, a, b)\n",
        "print(\"Заполненная матрица в шахматном порядке:\")\n",
        "print(result_matrix)"
      ]
    },
    {
      "cell_type": "markdown",
      "metadata": {
        "id": "-ymXLtTN0vB6"
      },
      "source": [
        "<h1>Задача 6. Напишите функцию, которая отрисовывает прямоугольник с заданными размерами (a, b) на изображении размера (m, n), цвет фона задайте в схеме RGB, как и цвет прямоугольника. Цвета также должны быть параметрами функции. Напишите аналогичную функцию но для овала с полуосями a и b. Напишите тесты для кода.\n",
        "Примечание: уравнение эллипса (границы овала) можно записать как:\n",
        "<h1>$\\frac{(x-x_0)^2}{a^2}+\\frac{(y-y_0)^2}{b^2}=1$"
      ]
    },
    {
      "cell_type": "code",
      "execution_count": null,
      "metadata": {
        "id": "sNfl1t_kfOF4"
      },
      "outputs": [],
      "source": [
        "import numpy as np\n",
        "import matplotlib.pyplot as plt\n",
        "from matplotlib.patches import Rectangle, Ellipse\n",
        "\n",
        "def draw_rectangle(image, m, n, a, b, rect_color, bg_color=(255, 255, 255)):\n",
        "    rect_color = tuple(color / 255 for color in rect_color)\n",
        "    bg_color = tuple(color / 255 for color in bg_color)\n",
        "\n",
        "    image[:, :] = bg_color\n",
        "    fig, ax = plt.subplots()\n",
        "    rect = Rectangle((int((n-a)/2), int((m-b)/2)), a, b, edgecolor='none', facecolor=rect_color)\n",
        "    ax.add_patch(rect)\n",
        "    ax.imshow(image)\n",
        "    plt.axis('off')\n",
        "    plt.show()\n",
        "\n",
        "def draw_ellipse(image, m, n, a, b, ellipse_color, bg_color=(255, 255, 255)):\n",
        "    ellipse_color = tuple(color / 255 for color in ellipse_color)\n",
        "    bg_color = tuple(color / 255 for color in bg_color)\n",
        "\n",
        "    image[:, :] = bg_color\n",
        "    fig, ax = plt.subplots()\n",
        "    ellipse = Ellipse((int(n/2), int(m/2)), width=2*a, height=2*b, edgecolor='none', facecolor=ellipse_color)\n",
        "    ax.add_patch(ellipse)\n",
        "    ax.imshow(image)\n",
        "    plt.axis('off')\n",
        "    plt.show()\n",
        "\n",
        "# Тесты для прямоугольника\n",
        "m = 200\n",
        "n = 300\n",
        "a = 100\n",
        "b = 50\n",
        "rect_color = (255, 0, 0)  # Красный цвет\n",
        "bg_color = (255, 255, 255)  # Белый цвет фона\n",
        "image = np.zeros((m, n, 3), dtype=np.uint8)\n",
        "draw_rectangle(image, m, n, a, b, rect_color, bg_color)\n",
        "\n",
        "# Тесты для овала\n",
        "m = 200\n",
        "n = 300\n",
        "a = 100\n",
        "b = 50\n",
        "ellipse_color = (0, 0, 255)  # Синий цвет\n",
        "bg_color = (255, 255, 255)  # Белый цвет фона\n",
        "image = np.zeros((m, n, 3), dtype=np.uint8)\n",
        "draw_ellipse(image, m, n, a, b, ellipse_color, bg_color)"
      ]
    },
    {
      "cell_type": "markdown",
      "metadata": {
        "id": "S82c38oz244H"
      },
      "source": [
        "<h1>Задача 7. Дан некий временной ряд. Для данного ряда нужно найти его: математическое ожидание, дисперсию, СКО, найти все локальные максимумы и минимумы (локальный максимум - это точка, которая больше своих соседних точек, а локальный минимум - это точка, которая меньше своих соседей), а также вычислить для данного ряда другой ряд, получаемый методом скользящего среднего с размером окна $p$.\n",
        "<h1>Примечание: метод скользящего среднего подразумевает нахождение среднего из подмножетсва ряда размером $p$"
      ]
    },
    {
      "cell_type": "code",
      "execution_count": null,
      "metadata": {
        "id": "Zb9mIVge5MMt"
      },
      "outputs": [],
      "source": [
        "import numpy as np\n",
        "from scipy.signal import find_peaks\n",
        "\n",
        "def mean(series):\n",
        "    return np.mean(series)\n",
        "\n",
        "def variance(series):\n",
        "    return np.var(series)\n",
        "\n",
        "def standard_deviation(series):\n",
        "    return np.std(series)\n",
        "\n",
        "def find_local_extrema(series):\n",
        "    peaks_max, _ = find_peaks(series, prominence=1)  # Находим локальные максимумы\n",
        "    peaks_min, _ = find_peaks(-series, prominence=1)  # Находим локальные минимумы\n",
        "    return peaks_max, peaks_min\n",
        "\n",
        "def rolling_mean(series, window_size):\n",
        "    return np.convolve(series, np.ones(window_size)/window_size, mode='valid')\n",
        "\n",
        "# Пример использования функций\n",
        "time_series = np.array([3, 5, 2, 8, 6, 1, 7, 4, 9, 2])\n",
        "print(\"Временной ряд:\", time_series)\n",
        "\n",
        "# Находим математическое ожидание\n",
        "print(\"Математическое ожидание:\", mean(time_series))\n",
        "\n",
        "# Находим дисперсию\n",
        "print(\"Дисперсия:\", variance(time_series))\n",
        "\n",
        "# Находим СКО\n",
        "print(\"Стандартное отклонение (СКО):\", standard_deviation(time_series))\n",
        "\n",
        "# Находим локальные максимумы и минимумы\n",
        "peaks_max, peaks_min = find_local_extrema(time_series)\n",
        "print(\"Локальные максимумы:\", peaks_max)\n",
        "print(\"Локальные минимумы:\", peaks_min)\n",
        "\n",
        "# Вычисляем скользящее среднее с размером окна p\n",
        "p = 3\n",
        "rolling_mean_series = rolling_mean(time_series, p)\n",
        "print(f\"Скользящее среднее с окном {p}:\", rolling_mean_series)"
      ]
    },
    {
      "cell_type": "markdown",
      "metadata": {
        "id": "jPkylmOX5O9n"
      },
      "source": [
        "<h1> Задача 8. Дан некоторый вектор с целочисленными метками классов, напишите функцию, которая выполняет one-hot-encoding для данного вектора\n",
        "<h1> One-hot-encoding - представление, в котором на месте метки некоторого класса стоит 1, в остальных позициях стоит 0. Например для вектора [0, 2, 3, 0] one-hot-encoding выглядит как: [[1, 0, 0, 0], [0, 0, 1, 0], [0, 0, 0, 1], [1, 0, 0, 0]]"
      ]
    },
    {
      "cell_type": "code",
      "execution_count": null,
      "metadata": {
        "id": "Y-jlnZvw56lD"
      },
      "outputs": [],
      "source": [
        "import numpy as np\n",
        "\n",
        "def one_hot_encoding(labels, num_classes):\n",
        "    one_hot_encoded = np.zeros((len(labels), num_classes), dtype=int)\n",
        "    for i, label in enumerate(labels):\n",
        "        one_hot_encoded[i, label] = 1\n",
        "    return one_hot_encoded\n",
        "\n",
        "# Пример использования функции\n",
        "labels = np.array([0, 2, 3, 0])\n",
        "num_classes = 4\n",
        "print(\"Вектор меток классов:\", labels)\n",
        "print(\"Результат one-hot-encoding:\")\n",
        "print(one_hot_encoding(labels, num_classes))"
      ]
    }
  ],
  "metadata": {
    "colab": {
      "provenance": []
    },
    "kernelspec": {
      "display_name": "Python 3",
      "name": "python3"
    },
    "language_info": {
      "codemirror_mode": {
        "name": "ipython",
        "version": 3
      },
      "file_extension": ".py",
      "mimetype": "text/x-python",
      "name": "python",
      "nbconvert_exporter": "python",
      "pygments_lexer": "ipython3",
      "version": "3.9.12"
    }
  },
  "nbformat": 4,
  "nbformat_minor": 0
}
